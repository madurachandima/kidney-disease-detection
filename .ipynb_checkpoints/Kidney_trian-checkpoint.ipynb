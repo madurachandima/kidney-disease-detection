{
 "cells": [
  {
   "cell_type": "code",
   "execution_count": 1,
   "metadata": {},
   "outputs": [],
   "source": [
    "import pandas as pd\n",
    "from sklearn.model_selection import train_test_split\n",
    "from sklearn.preprocessing import LabelEncoder\n",
    "from sklearn.metrics import accuracy_score\n",
    "from sklearn.model_selection import cross_val_score\n",
    "\n",
    "#\n",
    "from sklearn.ensemble import RandomForestClassifier\n",
    "from sklearn.tree import DecisionTreeClassifier\n",
    "from sklearn.neighbors import KNeighborsClassifier\n",
    "from sklearn.linear_model import LogisticRegression\n",
    "from sklearn.svm import SVC"
   ]
  },
  {
   "cell_type": "code",
   "execution_count": 2,
   "metadata": {},
   "outputs": [],
   "source": [
    "dt = pd.read_csv('kidney_disease.csv')"
   ]
  },
  {
   "cell_type": "code",
   "execution_count": 3,
   "metadata": {},
   "outputs": [],
   "source": [
    "cols_to_retain = ['age','al','sc','hemo','sg','pcv','bu','htn','rbc','pc','classification']\n",
    "dt = dt.drop( [col for col in dt.columns if not col in cols_to_retain] , axis = 1 )\n",
    "dt = dt.dropna(axis = 0 , how = 'any')"
   ]
  },
  {
   "cell_type": "code",
   "execution_count": 4,
   "metadata": {},
   "outputs": [],
   "source": [
    "dt['rbc'] = LabelEncoder().fit_transform( dt['rbc'])\n",
    "dt['pc'] = LabelEncoder().fit_transform( dt['pc'])\n",
    "dt['htn'] = LabelEncoder().fit_transform( dt['htn'])\n",
    "dt['classification'] = LabelEncoder().fit_transform( dt['classification'])"
   ]
  },
  {
   "cell_type": "code",
   "execution_count": 5,
   "metadata": {},
   "outputs": [],
   "source": [
    "X = dt.drop(['classification'] , axis = 1)\n",
    "Y = dt['classification']"
   ]
  },
  {
   "cell_type": "code",
   "execution_count": 6,
   "metadata": {},
   "outputs": [],
   "source": [
    "X_train,X_test,Y_train,Y_test=train_test_split(X , Y , test_size = 0.2)"
   ]
  },
  {
   "cell_type": "code",
   "execution_count": 7,
   "metadata": {},
   "outputs": [],
   "source": [
    "k_range = range(1,20)\n",
    "scores = []\n",
    "for k in k_range:\n",
    "    knn = KNeighborsClassifier(n_neighbors = k)\n",
    "    knn.fit(X_train,Y_train)\n",
    "    y_pred=knn.predict(X_test)\n",
    "    scores.append(accuracy_score(Y_test,y_pred))\n",
    "    \n",
    "import operator\n",
    "index, value = max(enumerate(scores), key=operator.itemgetter(1))\n",
    "k_value = index + 1  "
   ]
  },
  {
   "cell_type": "code",
   "execution_count": 8,
   "metadata": {},
   "outputs": [],
   "source": [
    "models =[]\n",
    "models.append(('RFC',RandomForestClassifier()))\n",
    "models.append(('DTC',DecisionTreeClassifier()))\n",
    "models.append(('KNN',KNeighborsClassifier(n_neighbors = k_value )))\n",
    "models.append(('LR', LogisticRegression(solver='liblinear')))\n",
    "models.append(('SVM',SVC(kernel='linear')))"
   ]
  },
  {
   "cell_type": "code",
   "execution_count": 9,
   "metadata": {},
   "outputs": [
    {
     "name": "stdout",
     "output_type": "stream",
     "text": [
      "RFC: 0.993750\n",
      "DTC: 0.981439\n",
      "KNN: 0.925947\n",
      "LR: 0.975379\n",
      "SVM: 0.987689\n"
     ]
    }
   ],
   "source": [
    "results = []\n",
    "names = []\n",
    "accuracy_values = []\n",
    "function_name = []\n",
    "\n",
    "for name,model in models:\n",
    "    accuracy = cross_val_score(model, X_train, Y_train,scoring='accuracy')\n",
    "    results.append(accuracy)   \n",
    "    msg = (\"%s: %f\" % (name, accuracy.mean()))\n",
    "    print(msg)\n",
    "    accuracy_values.append(accuracy.mean())\n",
    "    function_name.append(name)"
   ]
  },
  {
   "cell_type": "code",
   "execution_count": 10,
   "metadata": {},
   "outputs": [],
   "source": [
    "import operator\n",
    "index, value = max(enumerate(accuracy_values), key=operator.itemgetter(1))"
   ]
  },
  {
   "cell_type": "code",
   "execution_count": null,
   "metadata": {},
   "outputs": [],
   "source": []
  },
  {
   "cell_type": "code",
   "execution_count": 11,
   "metadata": {},
   "outputs": [
    {
     "name": "stdout",
     "output_type": "stream",
     "text": [
      "0\n",
      "0.99375\n",
      "RFC\n"
     ]
    }
   ],
   "source": [
    "print(index)\n",
    "print(value)\n",
    "print(function_name[index])"
   ]
  },
  {
   "cell_type": "code",
   "execution_count": 12,
   "metadata": {},
   "outputs": [
    {
     "name": "stdout",
     "output_type": "stream",
     "text": [
      "RFC\n"
     ]
    }
   ],
   "source": [
    "model = \"\"\n",
    "\n",
    "if function_name[index] == \"RFC\" :\n",
    "    model = RandomForestClassifier()\n",
    "    print(function_name[index])\n",
    "        \n",
    "elif function_name[index] == \"DTC\" :\n",
    "    model = DecisionTreeClassifier()\n",
    "    print(function_name[index])\n",
    "                \n",
    "elif function_name[index] == \"KNN\" :\n",
    "    model = KNeighborsClassifier(n_neighbors = k_value)\n",
    "    print(function_name[index])\n",
    "    \n",
    "elif function_name[index] == \"SVM\" :\n",
    "    model = SVC(kernel='linear')\n",
    "    print(function_name[index])\n",
    "        \n",
    "elif function_name[index] == \"LR\" :\n",
    "    model = LogisticRegression(solver='liblinear')\n",
    "    print(function_name[index])\n",
    "        \n",
    "        \n",
    "    \n",
    "    "
   ]
  },
  {
   "cell_type": "code",
   "execution_count": 13,
   "metadata": {},
   "outputs": [],
   "source": [
    "model = model.fit(X,Y)"
   ]
  },
  {
   "cell_type": "code",
   "execution_count": 14,
   "metadata": {},
   "outputs": [],
   "source": [
    "y_pred = model.predict(X_test)"
   ]
  },
  {
   "cell_type": "code",
   "execution_count": 15,
   "metadata": {},
   "outputs": [
    {
     "data": {
      "text/plain": [
       "array([1, 1, 0, 1, 1, 1, 1, 1, 0, 1, 0, 0, 1, 1, 1, 0, 1, 1, 1, 0, 1, 1,\n",
       "       1, 1, 0, 1, 0, 0, 1, 1, 1, 1, 1, 0, 1, 0, 1, 1, 1, 1, 0])"
      ]
     },
     "execution_count": 15,
     "metadata": {},
     "output_type": "execute_result"
    }
   ],
   "source": [
    "y_pred"
   ]
  },
  {
   "cell_type": "code",
   "execution_count": 16,
   "metadata": {},
   "outputs": [],
   "source": [
    "import joblib as joblib"
   ]
  },
  {
   "cell_type": "code",
   "execution_count": 17,
   "metadata": {},
   "outputs": [
    {
     "data": {
      "text/plain": [
       "['train_model.joblib']"
      ]
     },
     "execution_count": 17,
     "metadata": {},
     "output_type": "execute_result"
    }
   ],
   "source": [
    "joblib.dump(model,'train_model.joblib')"
   ]
  },
  {
   "cell_type": "code",
   "execution_count": null,
   "metadata": {},
   "outputs": [],
   "source": []
  },
  {
   "cell_type": "code",
   "execution_count": null,
   "metadata": {},
   "outputs": [],
   "source": []
  }
 ],
 "metadata": {
  "kernelspec": {
   "display_name": "Python 3",
   "language": "python",
   "name": "python3"
  },
  "language_info": {
   "codemirror_mode": {
    "name": "ipython",
    "version": 3
   },
   "file_extension": ".py",
   "mimetype": "text/x-python",
   "name": "python",
   "nbconvert_exporter": "python",
   "pygments_lexer": "ipython3",
   "version": "3.8.8"
  }
 },
 "nbformat": 4,
 "nbformat_minor": 4
}
