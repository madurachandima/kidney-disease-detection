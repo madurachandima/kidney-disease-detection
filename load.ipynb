{
 "cells": [
  {
   "cell_type": "code",
   "execution_count": 63,
   "id": "b66e5bae",
   "metadata": {},
   "outputs": [],
   "source": [
    "import joblib as joblib\n",
    "# import pandas as pd\n",
    "# from sklearn.preprocessing import LabelEncoder"
   ]
  },
  {
   "cell_type": "code",
   "execution_count": 64,
   "id": "0543b2de",
   "metadata": {},
   "outputs": [],
   "source": [
    "# dt = pd.read_csv('kidney_disease.csv')"
   ]
  },
  {
   "cell_type": "code",
   "execution_count": 65,
   "id": "8e87b3ce",
   "metadata": {},
   "outputs": [],
   "source": [
    "# cols_to_retain = ['age','al','sc','hemo','sg','pcv','bu','htn','rbc','pc','classification']\n",
    "# dt = dt.drop( [col for col in dt.columns if not col in cols_to_retain] , axis = 1 )\n",
    "# dt = dt.dropna(axis = 0 , how = 'any')\n",
    "# dt['rbc'] = LabelEncoder().fit_transform( dt['rbc'])\n",
    "# dt['pc'] = LabelEncoder().fit_transform( dt['pc'])\n",
    "# dt['htn'] = LabelEncoder().fit_transform( dt['htn'])\n",
    "# dt['classification'] = LabelEncoder().fit_transform( dt['classification'])"
   ]
  },
  {
   "cell_type": "code",
   "execution_count": 66,
   "id": "76eab737",
   "metadata": {},
   "outputs": [],
   "source": [
    "# X = dt.drop(['classification'] , axis = 1)\n",
    "# Y = dt['classification']"
   ]
  },
  {
   "cell_type": "code",
   "execution_count": 67,
   "id": "6fbf4b30",
   "metadata": {},
   "outputs": [],
   "source": [
    "# dt"
   ]
  },
  {
   "cell_type": "code",
   "execution_count": 68,
   "id": "a5766025",
   "metadata": {},
   "outputs": [],
   "source": [
    "loadModel = joblib.load('train_model.joblib')"
   ]
  },
  {
   "cell_type": "code",
   "execution_count": 69,
   "id": "572f0929",
   "metadata": {},
   "outputs": [],
   "source": [
    "y_pred = loadModel.predict([[17.0,1.010,2.0,1,1,53.0,1.8,9.6,31,0,]])"
   ]
  },
  {
   "cell_type": "code",
   "execution_count": 70,
   "id": "cb8658c8",
   "metadata": {},
   "outputs": [
    {
     "data": {
      "text/plain": [
       "array([0])"
      ]
     },
     "execution_count": 70,
     "metadata": {},
     "output_type": "execute_result"
    }
   ],
   "source": [
    "y_pred"
   ]
  }
 ],
 "metadata": {
  "kernelspec": {
   "display_name": "Python 3",
   "language": "python",
   "name": "python3"
  },
  "language_info": {
   "codemirror_mode": {
    "name": "ipython",
    "version": 3
   },
   "file_extension": ".py",
   "mimetype": "text/x-python",
   "name": "python",
   "nbconvert_exporter": "python",
   "pygments_lexer": "ipython3",
   "version": "3.8.8"
  }
 },
 "nbformat": 4,
 "nbformat_minor": 5
}
